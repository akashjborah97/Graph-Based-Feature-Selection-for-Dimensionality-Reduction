{
 "cells": [
  {
   "cell_type": "markdown",
   "id": "33168bf3",
   "metadata": {},
   "source": [
    "# Importing Dataset and Data Preprocessing"
   ]
  },
  {
   "cell_type": "code",
   "execution_count": 57,
   "id": "f83c5ff3",
   "metadata": {},
   "outputs": [],
   "source": [
    "import numpy as np\n",
    "import pandas as pd\n",
    "import matplotlib.pyplot as plt"
   ]
  },
  {
   "cell_type": "code",
   "execution_count": 58,
   "id": "1a0eb2ea",
   "metadata": {},
   "outputs": [
    {
     "name": "stdout",
     "output_type": "stream",
     "text": [
      "<class 'pandas.core.frame.DataFrame'>\n",
      "RangeIndex: 1484 entries, 0 to 1483\n",
      "Data columns (total 10 columns):\n",
      " #   Column         Non-Null Count  Dtype  \n",
      "---  ------         --------------  -----  \n",
      " 0   Sequence Name  1484 non-null   object \n",
      " 1   mcg            1484 non-null   float64\n",
      " 2   gvh            1484 non-null   float64\n",
      " 3   alm            1484 non-null   float64\n",
      " 4   mit            1484 non-null   float64\n",
      " 5   erl            1484 non-null   float64\n",
      " 6   pox            1484 non-null   float64\n",
      " 7   vac            1484 non-null   float64\n",
      " 8   nuc            1484 non-null   float64\n",
      " 9   Class          1484 non-null   object \n",
      "dtypes: float64(8), object(2)\n",
      "memory usage: 116.1+ KB\n"
     ]
    }
   ],
   "source": [
    "data= pd.read_csv('yeast.csv',header = None, sep = \"\\s+\")\n",
    "data.columns = [\"Sequence Name\", \"mcg\", \"gvh\", \"alm\", \"mit\", \"erl\", \"pox\", \"vac\", \"nuc\", \"Class\"]\n",
    "data.info()"
   ]
  },
  {
   "cell_type": "code",
   "execution_count": 59,
   "id": "ec6cc726",
   "metadata": {},
   "outputs": [
    {
     "name": "stdout",
     "output_type": "stream",
     "text": [
      "Percentage of occurences within the dataset\n"
     ]
    },
    {
     "data": {
      "text/plain": [
       "CYT    31.20\n",
       "NUC    28.91\n",
       "MIT    16.44\n",
       "ME3    10.98\n",
       "ME2     3.44\n",
       "ME1     2.96\n",
       "EXC     2.36\n",
       "VAC     2.02\n",
       "POX     1.35\n",
       "ERL     0.34\n",
       "Name: Class, dtype: float64"
      ]
     },
     "execution_count": 59,
     "metadata": {},
     "output_type": "execute_result"
    }
   ],
   "source": [
    "print(\"Percentage of occurences within the dataset\")\n",
    "round((data[\"Class\"].value_counts()/1484)*100,2)"
   ]
  },
  {
   "cell_type": "code",
   "execution_count": 60,
   "id": "37bfa74d",
   "metadata": {},
   "outputs": [
    {
     "data": {
      "text/html": [
       "<div>\n",
       "<style scoped>\n",
       "    .dataframe tbody tr th:only-of-type {\n",
       "        vertical-align: middle;\n",
       "    }\n",
       "\n",
       "    .dataframe tbody tr th {\n",
       "        vertical-align: top;\n",
       "    }\n",
       "\n",
       "    .dataframe thead th {\n",
       "        text-align: right;\n",
       "    }\n",
       "</style>\n",
       "<table border=\"1\" class=\"dataframe\">\n",
       "  <thead>\n",
       "    <tr style=\"text-align: right;\">\n",
       "      <th></th>\n",
       "      <th>Sequence Name</th>\n",
       "      <th>mcg</th>\n",
       "      <th>gvh</th>\n",
       "      <th>alm</th>\n",
       "      <th>mit</th>\n",
       "      <th>erl</th>\n",
       "      <th>pox</th>\n",
       "      <th>vac</th>\n",
       "      <th>nuc</th>\n",
       "      <th>Class</th>\n",
       "    </tr>\n",
       "  </thead>\n",
       "  <tbody>\n",
       "    <tr>\n",
       "      <th>0</th>\n",
       "      <td>ADT1_YEAST</td>\n",
       "      <td>0.58</td>\n",
       "      <td>0.61</td>\n",
       "      <td>0.47</td>\n",
       "      <td>0.13</td>\n",
       "      <td>0.5</td>\n",
       "      <td>0.0</td>\n",
       "      <td>0.48</td>\n",
       "      <td>0.22</td>\n",
       "      <td>MIT</td>\n",
       "    </tr>\n",
       "    <tr>\n",
       "      <th>1</th>\n",
       "      <td>ADT2_YEAST</td>\n",
       "      <td>0.43</td>\n",
       "      <td>0.67</td>\n",
       "      <td>0.48</td>\n",
       "      <td>0.27</td>\n",
       "      <td>0.5</td>\n",
       "      <td>0.0</td>\n",
       "      <td>0.53</td>\n",
       "      <td>0.22</td>\n",
       "      <td>MIT</td>\n",
       "    </tr>\n",
       "    <tr>\n",
       "      <th>2</th>\n",
       "      <td>ADT3_YEAST</td>\n",
       "      <td>0.64</td>\n",
       "      <td>0.62</td>\n",
       "      <td>0.49</td>\n",
       "      <td>0.15</td>\n",
       "      <td>0.5</td>\n",
       "      <td>0.0</td>\n",
       "      <td>0.53</td>\n",
       "      <td>0.22</td>\n",
       "      <td>MIT</td>\n",
       "    </tr>\n",
       "    <tr>\n",
       "      <th>3</th>\n",
       "      <td>AAR2_YEAST</td>\n",
       "      <td>0.58</td>\n",
       "      <td>0.44</td>\n",
       "      <td>0.57</td>\n",
       "      <td>0.13</td>\n",
       "      <td>0.5</td>\n",
       "      <td>0.0</td>\n",
       "      <td>0.54</td>\n",
       "      <td>0.22</td>\n",
       "      <td>NUC</td>\n",
       "    </tr>\n",
       "    <tr>\n",
       "      <th>4</th>\n",
       "      <td>AATM_YEAST</td>\n",
       "      <td>0.42</td>\n",
       "      <td>0.44</td>\n",
       "      <td>0.48</td>\n",
       "      <td>0.54</td>\n",
       "      <td>0.5</td>\n",
       "      <td>0.0</td>\n",
       "      <td>0.48</td>\n",
       "      <td>0.22</td>\n",
       "      <td>MIT</td>\n",
       "    </tr>\n",
       "  </tbody>\n",
       "</table>\n",
       "</div>"
      ],
      "text/plain": [
       "  Sequence Name   mcg   gvh   alm   mit  erl  pox   vac   nuc Class\n",
       "0    ADT1_YEAST  0.58  0.61  0.47  0.13  0.5  0.0  0.48  0.22   MIT\n",
       "1    ADT2_YEAST  0.43  0.67  0.48  0.27  0.5  0.0  0.53  0.22   MIT\n",
       "2    ADT3_YEAST  0.64  0.62  0.49  0.15  0.5  0.0  0.53  0.22   MIT\n",
       "3    AAR2_YEAST  0.58  0.44  0.57  0.13  0.5  0.0  0.54  0.22   NUC\n",
       "4    AATM_YEAST  0.42  0.44  0.48  0.54  0.5  0.0  0.48  0.22   MIT"
      ]
     },
     "execution_count": 60,
     "metadata": {},
     "output_type": "execute_result"
    }
   ],
   "source": [
    "data.head()"
   ]
  },
  {
   "cell_type": "code",
   "execution_count": 61,
   "id": "86c3ba26",
   "metadata": {},
   "outputs": [
    {
     "data": {
      "text/html": [
       "<div>\n",
       "<style scoped>\n",
       "    .dataframe tbody tr th:only-of-type {\n",
       "        vertical-align: middle;\n",
       "    }\n",
       "\n",
       "    .dataframe tbody tr th {\n",
       "        vertical-align: top;\n",
       "    }\n",
       "\n",
       "    .dataframe thead th {\n",
       "        text-align: right;\n",
       "    }\n",
       "</style>\n",
       "<table border=\"1\" class=\"dataframe\">\n",
       "  <thead>\n",
       "    <tr style=\"text-align: right;\">\n",
       "      <th></th>\n",
       "      <th>mcg</th>\n",
       "      <th>gvh</th>\n",
       "      <th>alm</th>\n",
       "      <th>mit</th>\n",
       "      <th>erl</th>\n",
       "      <th>pox</th>\n",
       "      <th>vac</th>\n",
       "      <th>nuc</th>\n",
       "    </tr>\n",
       "  </thead>\n",
       "  <tbody>\n",
       "    <tr>\n",
       "      <th>count</th>\n",
       "      <td>1484.000000</td>\n",
       "      <td>1484.000000</td>\n",
       "      <td>1484.000000</td>\n",
       "      <td>1484.000000</td>\n",
       "      <td>1484.000000</td>\n",
       "      <td>1484.000000</td>\n",
       "      <td>1484.000000</td>\n",
       "      <td>1484.000000</td>\n",
       "    </tr>\n",
       "    <tr>\n",
       "      <th>mean</th>\n",
       "      <td>0.500121</td>\n",
       "      <td>0.499933</td>\n",
       "      <td>0.500034</td>\n",
       "      <td>0.261186</td>\n",
       "      <td>0.504717</td>\n",
       "      <td>0.007500</td>\n",
       "      <td>0.499885</td>\n",
       "      <td>0.276199</td>\n",
       "    </tr>\n",
       "    <tr>\n",
       "      <th>std</th>\n",
       "      <td>0.137299</td>\n",
       "      <td>0.123924</td>\n",
       "      <td>0.086670</td>\n",
       "      <td>0.137098</td>\n",
       "      <td>0.048351</td>\n",
       "      <td>0.075683</td>\n",
       "      <td>0.057797</td>\n",
       "      <td>0.106491</td>\n",
       "    </tr>\n",
       "    <tr>\n",
       "      <th>min</th>\n",
       "      <td>0.110000</td>\n",
       "      <td>0.130000</td>\n",
       "      <td>0.210000</td>\n",
       "      <td>0.000000</td>\n",
       "      <td>0.500000</td>\n",
       "      <td>0.000000</td>\n",
       "      <td>0.000000</td>\n",
       "      <td>0.000000</td>\n",
       "    </tr>\n",
       "    <tr>\n",
       "      <th>25%</th>\n",
       "      <td>0.410000</td>\n",
       "      <td>0.420000</td>\n",
       "      <td>0.460000</td>\n",
       "      <td>0.170000</td>\n",
       "      <td>0.500000</td>\n",
       "      <td>0.000000</td>\n",
       "      <td>0.480000</td>\n",
       "      <td>0.220000</td>\n",
       "    </tr>\n",
       "    <tr>\n",
       "      <th>50%</th>\n",
       "      <td>0.490000</td>\n",
       "      <td>0.490000</td>\n",
       "      <td>0.510000</td>\n",
       "      <td>0.220000</td>\n",
       "      <td>0.500000</td>\n",
       "      <td>0.000000</td>\n",
       "      <td>0.510000</td>\n",
       "      <td>0.220000</td>\n",
       "    </tr>\n",
       "    <tr>\n",
       "      <th>75%</th>\n",
       "      <td>0.580000</td>\n",
       "      <td>0.570000</td>\n",
       "      <td>0.550000</td>\n",
       "      <td>0.320000</td>\n",
       "      <td>0.500000</td>\n",
       "      <td>0.000000</td>\n",
       "      <td>0.530000</td>\n",
       "      <td>0.300000</td>\n",
       "    </tr>\n",
       "    <tr>\n",
       "      <th>max</th>\n",
       "      <td>1.000000</td>\n",
       "      <td>1.000000</td>\n",
       "      <td>1.000000</td>\n",
       "      <td>1.000000</td>\n",
       "      <td>1.000000</td>\n",
       "      <td>0.830000</td>\n",
       "      <td>0.730000</td>\n",
       "      <td>1.000000</td>\n",
       "    </tr>\n",
       "  </tbody>\n",
       "</table>\n",
       "</div>"
      ],
      "text/plain": [
       "               mcg          gvh          alm          mit          erl  \\\n",
       "count  1484.000000  1484.000000  1484.000000  1484.000000  1484.000000   \n",
       "mean      0.500121     0.499933     0.500034     0.261186     0.504717   \n",
       "std       0.137299     0.123924     0.086670     0.137098     0.048351   \n",
       "min       0.110000     0.130000     0.210000     0.000000     0.500000   \n",
       "25%       0.410000     0.420000     0.460000     0.170000     0.500000   \n",
       "50%       0.490000     0.490000     0.510000     0.220000     0.500000   \n",
       "75%       0.580000     0.570000     0.550000     0.320000     0.500000   \n",
       "max       1.000000     1.000000     1.000000     1.000000     1.000000   \n",
       "\n",
       "               pox          vac          nuc  \n",
       "count  1484.000000  1484.000000  1484.000000  \n",
       "mean      0.007500     0.499885     0.276199  \n",
       "std       0.075683     0.057797     0.106491  \n",
       "min       0.000000     0.000000     0.000000  \n",
       "25%       0.000000     0.480000     0.220000  \n",
       "50%       0.000000     0.510000     0.220000  \n",
       "75%       0.000000     0.530000     0.300000  \n",
       "max       0.830000     0.730000     1.000000  "
      ]
     },
     "execution_count": 61,
     "metadata": {},
     "output_type": "execute_result"
    }
   ],
   "source": [
    "data.describe()"
   ]
  },
  {
   "cell_type": "code",
   "execution_count": 62,
   "id": "8dec3a3d",
   "metadata": {},
   "outputs": [
    {
     "data": {
      "text/plain": [
       "CYT    463\n",
       "NUC    429\n",
       "MIT    244\n",
       "ME3    163\n",
       "ME2     51\n",
       "ME1     44\n",
       "EXC     35\n",
       "VAC     30\n",
       "POX     20\n",
       "ERL      5\n",
       "Name: Class, dtype: int64"
      ]
     },
     "execution_count": 62,
     "metadata": {},
     "output_type": "execute_result"
    }
   ],
   "source": [
    "data['Class'].value_counts()"
   ]
  },
  {
   "cell_type": "code",
   "execution_count": 63,
   "id": "a0de7453",
   "metadata": {},
   "outputs": [],
   "source": [
    "data1=data.drop(columns=['Sequence Name','Class'],axis=1)"
   ]
  },
  {
   "cell_type": "code",
   "execution_count": 64,
   "id": "645f4a4a",
   "metadata": {},
   "outputs": [
    {
     "data": {
      "text/html": [
       "<div>\n",
       "<style scoped>\n",
       "    .dataframe tbody tr th:only-of-type {\n",
       "        vertical-align: middle;\n",
       "    }\n",
       "\n",
       "    .dataframe tbody tr th {\n",
       "        vertical-align: top;\n",
       "    }\n",
       "\n",
       "    .dataframe thead th {\n",
       "        text-align: right;\n",
       "    }\n",
       "</style>\n",
       "<table border=\"1\" class=\"dataframe\">\n",
       "  <thead>\n",
       "    <tr style=\"text-align: right;\">\n",
       "      <th></th>\n",
       "      <th>mcg</th>\n",
       "      <th>gvh</th>\n",
       "      <th>alm</th>\n",
       "      <th>mit</th>\n",
       "      <th>erl</th>\n",
       "      <th>pox</th>\n",
       "      <th>vac</th>\n",
       "      <th>nuc</th>\n",
       "    </tr>\n",
       "  </thead>\n",
       "  <tbody>\n",
       "    <tr>\n",
       "      <th>0</th>\n",
       "      <td>0.58</td>\n",
       "      <td>0.61</td>\n",
       "      <td>0.47</td>\n",
       "      <td>0.13</td>\n",
       "      <td>0.5</td>\n",
       "      <td>0.0</td>\n",
       "      <td>0.48</td>\n",
       "      <td>0.22</td>\n",
       "    </tr>\n",
       "    <tr>\n",
       "      <th>1</th>\n",
       "      <td>0.43</td>\n",
       "      <td>0.67</td>\n",
       "      <td>0.48</td>\n",
       "      <td>0.27</td>\n",
       "      <td>0.5</td>\n",
       "      <td>0.0</td>\n",
       "      <td>0.53</td>\n",
       "      <td>0.22</td>\n",
       "    </tr>\n",
       "    <tr>\n",
       "      <th>2</th>\n",
       "      <td>0.64</td>\n",
       "      <td>0.62</td>\n",
       "      <td>0.49</td>\n",
       "      <td>0.15</td>\n",
       "      <td>0.5</td>\n",
       "      <td>0.0</td>\n",
       "      <td>0.53</td>\n",
       "      <td>0.22</td>\n",
       "    </tr>\n",
       "    <tr>\n",
       "      <th>3</th>\n",
       "      <td>0.58</td>\n",
       "      <td>0.44</td>\n",
       "      <td>0.57</td>\n",
       "      <td>0.13</td>\n",
       "      <td>0.5</td>\n",
       "      <td>0.0</td>\n",
       "      <td>0.54</td>\n",
       "      <td>0.22</td>\n",
       "    </tr>\n",
       "    <tr>\n",
       "      <th>4</th>\n",
       "      <td>0.42</td>\n",
       "      <td>0.44</td>\n",
       "      <td>0.48</td>\n",
       "      <td>0.54</td>\n",
       "      <td>0.5</td>\n",
       "      <td>0.0</td>\n",
       "      <td>0.48</td>\n",
       "      <td>0.22</td>\n",
       "    </tr>\n",
       "  </tbody>\n",
       "</table>\n",
       "</div>"
      ],
      "text/plain": [
       "    mcg   gvh   alm   mit  erl  pox   vac   nuc\n",
       "0  0.58  0.61  0.47  0.13  0.5  0.0  0.48  0.22\n",
       "1  0.43  0.67  0.48  0.27  0.5  0.0  0.53  0.22\n",
       "2  0.64  0.62  0.49  0.15  0.5  0.0  0.53  0.22\n",
       "3  0.58  0.44  0.57  0.13  0.5  0.0  0.54  0.22\n",
       "4  0.42  0.44  0.48  0.54  0.5  0.0  0.48  0.22"
      ]
     },
     "execution_count": 64,
     "metadata": {},
     "output_type": "execute_result"
    }
   ],
   "source": [
    "data1.head()"
   ]
  },
  {
   "cell_type": "markdown",
   "id": "4154eaf3",
   "metadata": {},
   "source": [
    "# Imputation"
   ]
  },
  {
   "cell_type": "code",
   "execution_count": 65,
   "id": "2a4cf768",
   "metadata": {},
   "outputs": [],
   "source": [
    "numerical_columns=['mcg','gvh','alm','mit','erl','pox','vac','nuc']"
   ]
  },
  {
   "cell_type": "code",
   "execution_count": 66,
   "id": "953c6cf8",
   "metadata": {},
   "outputs": [],
   "source": [
    "from sklearn.impute import SimpleImputer\n",
    "imputer=SimpleImputer(missing_values=np.nan,strategy='median')\n",
    "data1[numerical_columns]=imputer.fit_transform(data1[numerical_columns])"
   ]
  },
  {
   "cell_type": "code",
   "execution_count": 67,
   "id": "f8804cfc",
   "metadata": {},
   "outputs": [
    {
     "data": {
      "text/html": [
       "<div>\n",
       "<style scoped>\n",
       "    .dataframe tbody tr th:only-of-type {\n",
       "        vertical-align: middle;\n",
       "    }\n",
       "\n",
       "    .dataframe tbody tr th {\n",
       "        vertical-align: top;\n",
       "    }\n",
       "\n",
       "    .dataframe thead th {\n",
       "        text-align: right;\n",
       "    }\n",
       "</style>\n",
       "<table border=\"1\" class=\"dataframe\">\n",
       "  <thead>\n",
       "    <tr style=\"text-align: right;\">\n",
       "      <th></th>\n",
       "      <th>mcg</th>\n",
       "      <th>gvh</th>\n",
       "      <th>alm</th>\n",
       "      <th>mit</th>\n",
       "      <th>erl</th>\n",
       "      <th>pox</th>\n",
       "      <th>vac</th>\n",
       "      <th>nuc</th>\n",
       "    </tr>\n",
       "  </thead>\n",
       "  <tbody>\n",
       "    <tr>\n",
       "      <th>0</th>\n",
       "      <td>0.58</td>\n",
       "      <td>0.61</td>\n",
       "      <td>0.47</td>\n",
       "      <td>0.13</td>\n",
       "      <td>0.5</td>\n",
       "      <td>0.0</td>\n",
       "      <td>0.48</td>\n",
       "      <td>0.22</td>\n",
       "    </tr>\n",
       "    <tr>\n",
       "      <th>1</th>\n",
       "      <td>0.43</td>\n",
       "      <td>0.67</td>\n",
       "      <td>0.48</td>\n",
       "      <td>0.27</td>\n",
       "      <td>0.5</td>\n",
       "      <td>0.0</td>\n",
       "      <td>0.53</td>\n",
       "      <td>0.22</td>\n",
       "    </tr>\n",
       "    <tr>\n",
       "      <th>2</th>\n",
       "      <td>0.64</td>\n",
       "      <td>0.62</td>\n",
       "      <td>0.49</td>\n",
       "      <td>0.15</td>\n",
       "      <td>0.5</td>\n",
       "      <td>0.0</td>\n",
       "      <td>0.53</td>\n",
       "      <td>0.22</td>\n",
       "    </tr>\n",
       "    <tr>\n",
       "      <th>3</th>\n",
       "      <td>0.58</td>\n",
       "      <td>0.44</td>\n",
       "      <td>0.57</td>\n",
       "      <td>0.13</td>\n",
       "      <td>0.5</td>\n",
       "      <td>0.0</td>\n",
       "      <td>0.54</td>\n",
       "      <td>0.22</td>\n",
       "    </tr>\n",
       "    <tr>\n",
       "      <th>4</th>\n",
       "      <td>0.42</td>\n",
       "      <td>0.44</td>\n",
       "      <td>0.48</td>\n",
       "      <td>0.54</td>\n",
       "      <td>0.5</td>\n",
       "      <td>0.0</td>\n",
       "      <td>0.48</td>\n",
       "      <td>0.22</td>\n",
       "    </tr>\n",
       "  </tbody>\n",
       "</table>\n",
       "</div>"
      ],
      "text/plain": [
       "    mcg   gvh   alm   mit  erl  pox   vac   nuc\n",
       "0  0.58  0.61  0.47  0.13  0.5  0.0  0.48  0.22\n",
       "1  0.43  0.67  0.48  0.27  0.5  0.0  0.53  0.22\n",
       "2  0.64  0.62  0.49  0.15  0.5  0.0  0.53  0.22\n",
       "3  0.58  0.44  0.57  0.13  0.5  0.0  0.54  0.22\n",
       "4  0.42  0.44  0.48  0.54  0.5  0.0  0.48  0.22"
      ]
     },
     "execution_count": 67,
     "metadata": {},
     "output_type": "execute_result"
    }
   ],
   "source": [
    "data1.head()"
   ]
  },
  {
   "cell_type": "code",
   "execution_count": 68,
   "id": "0c1a4518",
   "metadata": {},
   "outputs": [
    {
     "name": "stdout",
     "output_type": "stream",
     "text": [
      "<class 'pandas.core.frame.DataFrame'>\n",
      "RangeIndex: 1484 entries, 0 to 1483\n",
      "Data columns (total 8 columns):\n",
      " #   Column  Non-Null Count  Dtype  \n",
      "---  ------  --------------  -----  \n",
      " 0   mcg     1484 non-null   float64\n",
      " 1   gvh     1484 non-null   float64\n",
      " 2   alm     1484 non-null   float64\n",
      " 3   mit     1484 non-null   float64\n",
      " 4   erl     1484 non-null   float64\n",
      " 5   pox     1484 non-null   float64\n",
      " 6   vac     1484 non-null   float64\n",
      " 7   nuc     1484 non-null   float64\n",
      "dtypes: float64(8)\n",
      "memory usage: 92.9 KB\n"
     ]
    }
   ],
   "source": [
    "data1.info()"
   ]
  },
  {
   "cell_type": "markdown",
   "id": "3934c962",
   "metadata": {},
   "source": [
    "# Normalization"
   ]
  },
  {
   "cell_type": "code",
   "execution_count": 69,
   "id": "d49d2081",
   "metadata": {},
   "outputs": [
    {
     "data": {
      "text/html": [
       "<div>\n",
       "<style scoped>\n",
       "    .dataframe tbody tr th:only-of-type {\n",
       "        vertical-align: middle;\n",
       "    }\n",
       "\n",
       "    .dataframe tbody tr th {\n",
       "        vertical-align: top;\n",
       "    }\n",
       "\n",
       "    .dataframe thead th {\n",
       "        text-align: right;\n",
       "    }\n",
       "</style>\n",
       "<table border=\"1\" class=\"dataframe\">\n",
       "  <thead>\n",
       "    <tr style=\"text-align: right;\">\n",
       "      <th></th>\n",
       "      <th>mcg</th>\n",
       "      <th>gvh</th>\n",
       "      <th>alm</th>\n",
       "      <th>mit</th>\n",
       "      <th>erl</th>\n",
       "      <th>pox</th>\n",
       "      <th>vac</th>\n",
       "      <th>nuc</th>\n",
       "    </tr>\n",
       "  </thead>\n",
       "  <tbody>\n",
       "    <tr>\n",
       "      <th>0</th>\n",
       "      <td>0.477548</td>\n",
       "      <td>0.502249</td>\n",
       "      <td>0.386979</td>\n",
       "      <td>0.107037</td>\n",
       "      <td>0.411680</td>\n",
       "      <td>0.000000</td>\n",
       "      <td>0.395212</td>\n",
       "      <td>0.181139</td>\n",
       "    </tr>\n",
       "    <tr>\n",
       "      <th>1</th>\n",
       "      <td>0.349190</td>\n",
       "      <td>0.544086</td>\n",
       "      <td>0.389793</td>\n",
       "      <td>0.219259</td>\n",
       "      <td>0.406035</td>\n",
       "      <td>0.000000</td>\n",
       "      <td>0.430397</td>\n",
       "      <td>0.178655</td>\n",
       "    </tr>\n",
       "    <tr>\n",
       "      <th>2</th>\n",
       "      <td>0.500382</td>\n",
       "      <td>0.484745</td>\n",
       "      <td>0.383105</td>\n",
       "      <td>0.117277</td>\n",
       "      <td>0.390923</td>\n",
       "      <td>0.000000</td>\n",
       "      <td>0.414379</td>\n",
       "      <td>0.172006</td>\n",
       "    </tr>\n",
       "    <tr>\n",
       "      <th>3</th>\n",
       "      <td>0.479716</td>\n",
       "      <td>0.363922</td>\n",
       "      <td>0.471445</td>\n",
       "      <td>0.107523</td>\n",
       "      <td>0.413548</td>\n",
       "      <td>0.000000</td>\n",
       "      <td>0.446632</td>\n",
       "      <td>0.181961</td>\n",
       "    </tr>\n",
       "    <tr>\n",
       "      <th>4</th>\n",
       "      <td>0.352357</td>\n",
       "      <td>0.369136</td>\n",
       "      <td>0.402694</td>\n",
       "      <td>0.453030</td>\n",
       "      <td>0.419473</td>\n",
       "      <td>0.000000</td>\n",
       "      <td>0.402694</td>\n",
       "      <td>0.184568</td>\n",
       "    </tr>\n",
       "    <tr>\n",
       "      <th>5</th>\n",
       "      <td>0.409497</td>\n",
       "      <td>0.321174</td>\n",
       "      <td>0.449643</td>\n",
       "      <td>0.136499</td>\n",
       "      <td>0.401467</td>\n",
       "      <td>0.401467</td>\n",
       "      <td>0.393438</td>\n",
       "      <td>0.176646</td>\n",
       "    </tr>\n",
       "    <tr>\n",
       "      <th>6</th>\n",
       "      <td>0.375420</td>\n",
       "      <td>0.405454</td>\n",
       "      <td>0.360403</td>\n",
       "      <td>0.488046</td>\n",
       "      <td>0.375420</td>\n",
       "      <td>0.000000</td>\n",
       "      <td>0.397945</td>\n",
       "      <td>0.165185</td>\n",
       "    </tr>\n",
       "    <tr>\n",
       "      <th>7</th>\n",
       "      <td>0.388948</td>\n",
       "      <td>0.364639</td>\n",
       "      <td>0.478082</td>\n",
       "      <td>0.162062</td>\n",
       "      <td>0.405154</td>\n",
       "      <td>0.000000</td>\n",
       "      <td>0.469979</td>\n",
       "      <td>0.275505</td>\n",
       "    </tr>\n",
       "    <tr>\n",
       "      <th>8</th>\n",
       "      <td>0.427372</td>\n",
       "      <td>0.388520</td>\n",
       "      <td>0.512847</td>\n",
       "      <td>0.279735</td>\n",
       "      <td>0.388520</td>\n",
       "      <td>0.000000</td>\n",
       "      <td>0.380750</td>\n",
       "      <td>0.170949</td>\n",
       "    </tr>\n",
       "    <tr>\n",
       "      <th>9</th>\n",
       "      <td>0.341618</td>\n",
       "      <td>0.333078</td>\n",
       "      <td>0.512428</td>\n",
       "      <td>0.128107</td>\n",
       "      <td>0.427023</td>\n",
       "      <td>0.000000</td>\n",
       "      <td>0.495347</td>\n",
       "      <td>0.256214</td>\n",
       "    </tr>\n",
       "  </tbody>\n",
       "</table>\n",
       "</div>"
      ],
      "text/plain": [
       "        mcg       gvh       alm       mit       erl       pox       vac  \\\n",
       "0  0.477548  0.502249  0.386979  0.107037  0.411680  0.000000  0.395212   \n",
       "1  0.349190  0.544086  0.389793  0.219259  0.406035  0.000000  0.430397   \n",
       "2  0.500382  0.484745  0.383105  0.117277  0.390923  0.000000  0.414379   \n",
       "3  0.479716  0.363922  0.471445  0.107523  0.413548  0.000000  0.446632   \n",
       "4  0.352357  0.369136  0.402694  0.453030  0.419473  0.000000  0.402694   \n",
       "5  0.409497  0.321174  0.449643  0.136499  0.401467  0.401467  0.393438   \n",
       "6  0.375420  0.405454  0.360403  0.488046  0.375420  0.000000  0.397945   \n",
       "7  0.388948  0.364639  0.478082  0.162062  0.405154  0.000000  0.469979   \n",
       "8  0.427372  0.388520  0.512847  0.279735  0.388520  0.000000  0.380750   \n",
       "9  0.341618  0.333078  0.512428  0.128107  0.427023  0.000000  0.495347   \n",
       "\n",
       "        nuc  \n",
       "0  0.181139  \n",
       "1  0.178655  \n",
       "2  0.172006  \n",
       "3  0.181961  \n",
       "4  0.184568  \n",
       "5  0.176646  \n",
       "6  0.165185  \n",
       "7  0.275505  \n",
       "8  0.170949  \n",
       "9  0.256214  "
      ]
     },
     "execution_count": 69,
     "metadata": {},
     "output_type": "execute_result"
    }
   ],
   "source": [
    "from sklearn.preprocessing import Normalizer\n",
    "norm=Normalizer()    \n",
    "columns=data1.columns\n",
    "data1=norm.fit_transform(data1)\n",
    "data1=pd.DataFrame(data1,columns=columns)\n",
    "data1.head(10)"
   ]
  },
  {
   "cell_type": "markdown",
   "id": "d9821a38",
   "metadata": {},
   "source": [
    "# Correlation among the features"
   ]
  },
  {
   "cell_type": "code",
   "execution_count": 70,
   "id": "012e78cf",
   "metadata": {},
   "outputs": [
    {
     "data": {
      "text/html": [
       "<div>\n",
       "<style scoped>\n",
       "    .dataframe tbody tr th:only-of-type {\n",
       "        vertical-align: middle;\n",
       "    }\n",
       "\n",
       "    .dataframe tbody tr th {\n",
       "        vertical-align: top;\n",
       "    }\n",
       "\n",
       "    .dataframe thead th {\n",
       "        text-align: right;\n",
       "    }\n",
       "</style>\n",
       "<table border=\"1\" class=\"dataframe\">\n",
       "  <thead>\n",
       "    <tr style=\"text-align: right;\">\n",
       "      <th></th>\n",
       "      <th>mcg</th>\n",
       "      <th>gvh</th>\n",
       "      <th>alm</th>\n",
       "      <th>mit</th>\n",
       "      <th>erl</th>\n",
       "      <th>pox</th>\n",
       "      <th>vac</th>\n",
       "      <th>nuc</th>\n",
       "    </tr>\n",
       "  </thead>\n",
       "  <tbody>\n",
       "    <tr>\n",
       "      <th>mcg</th>\n",
       "      <td>1.000000</td>\n",
       "      <td>0.263327</td>\n",
       "      <td>-0.428285</td>\n",
       "      <td>-0.086280</td>\n",
       "      <td>-0.451131</td>\n",
       "      <td>-0.066629</td>\n",
       "      <td>-0.316386</td>\n",
       "      <td>-0.354952</td>\n",
       "    </tr>\n",
       "    <tr>\n",
       "      <th>gvh</th>\n",
       "      <td>0.263327</td>\n",
       "      <td>1.000000</td>\n",
       "      <td>-0.512453</td>\n",
       "      <td>-0.121121</td>\n",
       "      <td>-0.340389</td>\n",
       "      <td>-0.077792</td>\n",
       "      <td>-0.223671</td>\n",
       "      <td>-0.298710</td>\n",
       "    </tr>\n",
       "    <tr>\n",
       "      <th>alm</th>\n",
       "      <td>-0.428285</td>\n",
       "      <td>-0.512453</td>\n",
       "      <td>1.000000</td>\n",
       "      <td>-0.105141</td>\n",
       "      <td>0.241078</td>\n",
       "      <td>-0.070619</td>\n",
       "      <td>0.033287</td>\n",
       "      <td>-0.006578</td>\n",
       "    </tr>\n",
       "    <tr>\n",
       "      <th>mit</th>\n",
       "      <td>-0.086280</td>\n",
       "      <td>-0.121121</td>\n",
       "      <td>-0.105141</td>\n",
       "      <td>1.000000</td>\n",
       "      <td>-0.285763</td>\n",
       "      <td>-0.036988</td>\n",
       "      <td>-0.306584</td>\n",
       "      <td>-0.171350</td>\n",
       "    </tr>\n",
       "    <tr>\n",
       "      <th>erl</th>\n",
       "      <td>-0.451131</td>\n",
       "      <td>-0.340389</td>\n",
       "      <td>0.241078</td>\n",
       "      <td>-0.285763</td>\n",
       "      <td>1.000000</td>\n",
       "      <td>-0.143640</td>\n",
       "      <td>0.399296</td>\n",
       "      <td>0.046783</td>\n",
       "    </tr>\n",
       "    <tr>\n",
       "      <th>pox</th>\n",
       "      <td>-0.066629</td>\n",
       "      <td>-0.077792</td>\n",
       "      <td>-0.070619</td>\n",
       "      <td>-0.036988</td>\n",
       "      <td>-0.143640</td>\n",
       "      <td>1.000000</td>\n",
       "      <td>-0.096093</td>\n",
       "      <td>-0.073525</td>\n",
       "    </tr>\n",
       "    <tr>\n",
       "      <th>vac</th>\n",
       "      <td>-0.316386</td>\n",
       "      <td>-0.223671</td>\n",
       "      <td>0.033287</td>\n",
       "      <td>-0.306584</td>\n",
       "      <td>0.399296</td>\n",
       "      <td>-0.096093</td>\n",
       "      <td>1.000000</td>\n",
       "      <td>0.097357</td>\n",
       "    </tr>\n",
       "    <tr>\n",
       "      <th>nuc</th>\n",
       "      <td>-0.354952</td>\n",
       "      <td>-0.298710</td>\n",
       "      <td>-0.006578</td>\n",
       "      <td>-0.171350</td>\n",
       "      <td>0.046783</td>\n",
       "      <td>-0.073525</td>\n",
       "      <td>0.097357</td>\n",
       "      <td>1.000000</td>\n",
       "    </tr>\n",
       "  </tbody>\n",
       "</table>\n",
       "</div>"
      ],
      "text/plain": [
       "          mcg       gvh       alm       mit       erl       pox       vac  \\\n",
       "mcg  1.000000  0.263327 -0.428285 -0.086280 -0.451131 -0.066629 -0.316386   \n",
       "gvh  0.263327  1.000000 -0.512453 -0.121121 -0.340389 -0.077792 -0.223671   \n",
       "alm -0.428285 -0.512453  1.000000 -0.105141  0.241078 -0.070619  0.033287   \n",
       "mit -0.086280 -0.121121 -0.105141  1.000000 -0.285763 -0.036988 -0.306584   \n",
       "erl -0.451131 -0.340389  0.241078 -0.285763  1.000000 -0.143640  0.399296   \n",
       "pox -0.066629 -0.077792 -0.070619 -0.036988 -0.143640  1.000000 -0.096093   \n",
       "vac -0.316386 -0.223671  0.033287 -0.306584  0.399296 -0.096093  1.000000   \n",
       "nuc -0.354952 -0.298710 -0.006578 -0.171350  0.046783 -0.073525  0.097357   \n",
       "\n",
       "          nuc  \n",
       "mcg -0.354952  \n",
       "gvh -0.298710  \n",
       "alm -0.006578  \n",
       "mit -0.171350  \n",
       "erl  0.046783  \n",
       "pox -0.073525  \n",
       "vac  0.097357  \n",
       "nuc  1.000000  "
      ]
     },
     "execution_count": 70,
     "metadata": {},
     "output_type": "execute_result"
    }
   ],
   "source": [
    "CR=data1.corr() #.abs()\n",
    "CR"
   ]
  },
  {
   "cell_type": "markdown",
   "id": "6e7b4413",
   "metadata": {},
   "source": [
    "# Defining vertices and weights of Graph"
   ]
  },
  {
   "cell_type": "code",
   "execution_count": 71,
   "id": "e93521df",
   "metadata": {},
   "outputs": [
    {
     "data": {
      "text/plain": [
       "pandas.core.indexes.base.Index"
      ]
     },
     "execution_count": 71,
     "metadata": {},
     "output_type": "execute_result"
    }
   ],
   "source": [
    "Vertices=CR.columns\n",
    "Vertices\n",
    "type(Vertices)"
   ]
  },
  {
   "cell_type": "code",
   "execution_count": 72,
   "id": "14c7de13",
   "metadata": {},
   "outputs": [
    {
     "data": {
      "text/plain": [
       "['mcg', 'gvh', 'alm', 'mit', 'erl', 'pox', 'vac', 'nuc']"
      ]
     },
     "execution_count": 72,
     "metadata": {},
     "output_type": "execute_result"
    }
   ],
   "source": [
    "Vertices.to_list()"
   ]
  },
  {
   "cell_type": "code",
   "execution_count": 73,
   "id": "eb68f601",
   "metadata": {},
   "outputs": [
    {
     "data": {
      "text/plain": [
       "8"
      ]
     },
     "execution_count": 73,
     "metadata": {},
     "output_type": "execute_result"
    }
   ],
   "source": [
    "#No of vertices\n",
    "N=len(Vertices)\n",
    "N"
   ]
  },
  {
   "cell_type": "markdown",
   "id": "d606b37b",
   "metadata": {},
   "source": [
    "# Extracting the upper triangular matrix of the correlation matrix to define the weights of the graph"
   ]
  },
  {
   "cell_type": "code",
   "execution_count": 74,
   "id": "22f1c6f8",
   "metadata": {},
   "outputs": [
    {
     "data": {
      "text/plain": [
       "array([[ 1.        ,  0.26332688,  0.        ,  0.        ,  0.        ,\n",
       "         0.        ,  0.        ,  0.        ],\n",
       "       [ 0.26332688,  1.        , -0.51245305,  0.        ,  0.        ,\n",
       "         0.        ,  0.        ,  0.        ],\n",
       "       [-0.42828533, -0.51245305,  1.        , -0.10514051,  0.        ,\n",
       "         0.        ,  0.        ,  0.        ],\n",
       "       [-0.08627984, -0.12112102, -0.10514051,  1.        , -0.28576344,\n",
       "         0.        ,  0.        ,  0.        ],\n",
       "       [-0.45113109, -0.34038869,  0.24107788, -0.28576344,  1.        ,\n",
       "        -0.14364021,  0.        ,  0.        ],\n",
       "       [-0.06662902, -0.07779229, -0.07061905, -0.03698801, -0.14364021,\n",
       "         1.        , -0.09609303,  0.        ],\n",
       "       [-0.3163862 , -0.2236707 ,  0.03328685, -0.30658361,  0.39929592,\n",
       "        -0.09609303,  1.        ,  0.0973571 ],\n",
       "       [-0.3549523 , -0.29871036, -0.00657828, -0.17134977,  0.04678279,\n",
       "        -0.07352548,  0.0973571 ,  1.        ]])"
      ]
     },
     "execution_count": 74,
     "metadata": {},
     "output_type": "execute_result"
    }
   ],
   "source": [
    "Weights=np.tril(CR,1)\n",
    "Weights.astype(float)\n",
    "#Weights=Weights*100"
   ]
  },
  {
   "cell_type": "code",
   "execution_count": 75,
   "id": "0b150758",
   "metadata": {},
   "outputs": [
    {
     "data": {
      "text/plain": [
       "array([[ 1.        ,  0.26332688,  0.        ,  0.        ,  0.        ,\n",
       "         0.        ,  0.        ,  0.        ],\n",
       "       [ 0.26332688,  1.        , -0.51245305,  0.        ,  0.        ,\n",
       "         0.        ,  0.        ,  0.        ],\n",
       "       [-0.42828533, -0.51245305,  1.        , -0.10514051,  0.        ,\n",
       "         0.        ,  0.        ,  0.        ],\n",
       "       [-0.08627984, -0.12112102, -0.10514051,  1.        , -0.28576344,\n",
       "         0.        ,  0.        ,  0.        ],\n",
       "       [-0.45113109, -0.34038869,  0.24107788, -0.28576344,  1.        ,\n",
       "        -0.14364021,  0.        ,  0.        ],\n",
       "       [-0.06662902, -0.07779229, -0.07061905, -0.03698801, -0.14364021,\n",
       "         1.        , -0.09609303,  0.        ],\n",
       "       [-0.3163862 , -0.2236707 ,  0.03328685, -0.30658361,  0.39929592,\n",
       "        -0.09609303,  1.        ,  0.0973571 ],\n",
       "       [-0.3549523 , -0.29871036, -0.00657828, -0.17134977,  0.04678279,\n",
       "        -0.07352548,  0.0973571 ,  1.        ]])"
      ]
     },
     "execution_count": 75,
     "metadata": {},
     "output_type": "execute_result"
    }
   ],
   "source": [
    "Weights"
   ]
  },
  {
   "cell_type": "markdown",
   "id": "713dbaa4",
   "metadata": {},
   "source": [
    "# Kruskal's algorithm to find Minimum Spanning Tree "
   ]
  },
  {
   "cell_type": "code",
   "execution_count": 76,
   "id": "d8191fad",
   "metadata": {},
   "outputs": [
    {
     "name": "stdout",
     "output_type": "stream",
     "text": [
      "Edges in the constructed MST\n",
      "gvh -- alm == -0.512453\n",
      "erl -- mcg == -0.451131\n",
      "alm -- mcg == -0.428285\n",
      "nuc -- mcg == -0.354952\n",
      "vac -- mcg == -0.316386\n",
      "vac -- mit == -0.306584\n",
      "erl -- pox == -0.143640\n",
      "Minimum Spanning Tree -2.5134317884056743\n"
     ]
    }
   ],
   "source": [
    " \n",
    "from collections import defaultdict\n",
    " \n",
    "# Class to represent a graph\n",
    "result = []  # This will store the resultant MST\n",
    "class Graph:\n",
    " \n",
    "    def __init__(self, vertices):\n",
    "        self.V = vertices  # No. of vertices\n",
    "        self.graph = []  # default dictionary to store graph\n",
    " \n",
    "    # function to add an edge to graph\n",
    "    def addEdge(self, u, v, w):\n",
    "        self.graph.append([u, v, w])\n",
    "    # function to delete an edge of graph\n",
    "    def delEdge(self, i):\n",
    "        self.graph.pop(i)\n",
    "        \n",
    "    # A utility function to find set of an element i\n",
    "    def find(self, parent, i):\n",
    "        if parent[i] == i:\n",
    "            return i\n",
    "        return self.find(parent, parent[i])\n",
    " \n",
    "    # A function that does union of two sets of x and y\n",
    "    def union(self, parent, rank, x, y):\n",
    "        xroot = self.find(parent, x)\n",
    "        yroot = self.find(parent, y)\n",
    " \n",
    "        # Attach smaller rank tree under root of high rank tree (Union by Rank)\n",
    "        if rank[xroot] < rank[yroot]:\n",
    "            parent[xroot] = yroot\n",
    "        elif rank[xroot] > rank[yroot]:\n",
    "            parent[yroot] = xroot\n",
    " \n",
    "        # If ranks are same, then make one as root\n",
    "        # and increment its rank by one\n",
    "        else:\n",
    "            parent[yroot] = xroot\n",
    "            rank[xroot] += 1\n",
    " \n",
    "    # The main function to construct MST using Kruskal's\n",
    "        # algorithm\n",
    "    def KruskalMST(self):\n",
    "     \n",
    "        # An index variable, used for sorted edges\n",
    "        i = 0\n",
    "         \n",
    "        # An index variable, used for result[]\n",
    "        e = 0\n",
    " \n",
    "        # Step 1:  Sort all the edges in non-decreasing order of their weight. If we are not allowed to change the\n",
    "        # given graph, we can create a copy of graph\n",
    "        \n",
    "        #print(self.graph)\n",
    "        self.graph = sorted(self.graph, \n",
    "                            key=lambda item: item[2]) #not taking inputs\n",
    "        #print(self.graph)\n",
    " \n",
    "        parent = []\n",
    "        rank = []\n",
    " \n",
    "        # Create V subsets with single elements\n",
    "        for node in range(self.V):\n",
    "            parent.append(node)\n",
    "            rank.append(0)\n",
    " \n",
    "        # Number of edges to be taken is equal to V-1\n",
    "        while e < self.V - 1:\n",
    " \n",
    "            # Step 2: Pick the smallest edge and increment the index for next iteration\n",
    "            u, v, w = self.graph[i]\n",
    "            #print(\"w=\",w)\n",
    "            i = i + 1\n",
    "            x = self.find(parent, u)\n",
    "            y = self.find(parent, v)\n",
    " \n",
    "            # If including this edge does't cause cycle, include it in result and increment the indexof result \n",
    "            #for next edge\n",
    "            if x != y:\n",
    "                e = e + 1\n",
    "                result.append([u, v, w])\n",
    "                self.union(parent, rank, x, y)\n",
    "            # Else discard the edge\n",
    " \n",
    "        minimumCost = 0\n",
    "        print (\"Edges in the constructed MST\")\n",
    "        for u, v, weight in result:\n",
    "                minimumCost += weight\n",
    "                print(\"%s -- %s == %f\" % (Vertices[u],Vertices[v], Weights[u][v]))\n",
    "        print(\"Minimum Spanning Tree\" , minimumCost)\n",
    " \n",
    "# Driver code\n",
    "g = Graph(N)\n",
    "for i in range(N):\n",
    "    for j in range(N):\n",
    "        g.addEdge(i,j,Weights[i][j])\n",
    "        \n",
    "# Function call\n",
    "g.KruskalMST()\n"
   ]
  },
  {
   "cell_type": "code",
   "execution_count": 77,
   "id": "19a50919",
   "metadata": {},
   "outputs": [
    {
     "name": "stdout",
     "output_type": "stream",
     "text": [
      "[[1, 2, -0.5124530542126253], [4, 0, -0.45113108623502074], [2, 0, -0.4282853333139712], [7, 0, -0.35495229677462464], [6, 0, -0.31638619603888374], [6, 3, -0.30658361305826337], [4, 5, -0.14364020877228523]]\n"
     ]
    }
   ],
   "source": [
    "print(result)"
   ]
  },
  {
   "cell_type": "code",
   "execution_count": 78,
   "id": "b3e2b3e3",
   "metadata": {},
   "outputs": [
    {
     "name": "stdout",
     "output_type": "stream",
     "text": [
      "Requirement already satisfied: decorator==5.0.9 in /Users/akashjyotiborah/opt/anaconda3/lib/python3.8/site-packages (5.0.9)\n",
      "\n",
      "\u001b[1m[\u001b[0m\u001b[34;49mnotice\u001b[0m\u001b[1;39;49m]\u001b[0m\u001b[39;49m A new release of pip available: \u001b[0m\u001b[31;49m22.3.1\u001b[0m\u001b[39;49m -> \u001b[0m\u001b[32;49m23.0.1\u001b[0m\n",
      "\u001b[1m[\u001b[0m\u001b[34;49mnotice\u001b[0m\u001b[1;39;49m]\u001b[0m\u001b[39;49m To update, run: \u001b[0m\u001b[32;49mpip install --upgrade pip\u001b[0m\n"
     ]
    }
   ],
   "source": [
    "!pip install decorator==5.0.9"
   ]
  },
  {
   "cell_type": "code",
   "execution_count": 79,
   "id": "f366ee9e",
   "metadata": {},
   "outputs": [
    {
     "data": {
      "image/png": "[encoded data removed]",
      "text/plain": [
       "<Figure size 432x288 with 1 Axes>"
      ]
     },
     "metadata": {},
     "output_type": "display_data"
    }
   ],
   "source": [
    "import networkx as nx\n",
    "import matplotlib.pyplot as plt\n",
    "\n",
    "G=nx.Graph()\n",
    "i=0\n",
    "G.add_node(i,pos=(i,i))\n",
    "G.add_node(1,pos=(0,1))\n",
    "G.add_node(2,pos=(1,1))\n",
    "G.add_node(3,pos=(2,1))\n",
    "G.add_node(4,pos=(2,0))\n",
    "G.add_node(5,pos=(3,0))\n",
    "G.add_node(6,pos=(3,1))\n",
    "G.add_node(7,pos=(3,2))\n",
    "G.add_edge(1,2,weight=-0.51)\n",
    "G.add_edge(4,0,weight=-0.45)\n",
    "G.add_edge(2,0,weight=-0.42)\n",
    "G.add_edge(7,0,weight=-0.35)\n",
    "G.add_edge(6,0,weight=-0.31)\n",
    "G.add_edge(6,3,weight=-0.30)\n",
    "G.add_edge(4,5,weight=-0.14)\n",
    "\n",
    "pos=nx.get_node_attributes(G,'pos')\n",
    "nx.draw(G,pos)\n",
    "labels = nx.get_edge_attributes(G,'weight')\n",
    "nx.draw_networkx_edge_labels(G,pos,edge_labels=labels)\n",
    "plt.savefig(\"fig.jpg\")"
   ]
  },
  {
   "cell_type": "code",
   "execution_count": 80,
   "id": "9226e576",
   "metadata": {},
   "outputs": [
    {
     "data": {
      "text/plain": [
       "7"
      ]
     },
     "execution_count": 80,
     "metadata": {},
     "output_type": "execute_result"
    }
   ],
   "source": [
    "L=len(result)\n",
    "L"
   ]
  },
  {
   "cell_type": "code",
   "execution_count": 81,
   "id": "eb41256c",
   "metadata": {},
   "outputs": [
    {
     "data": {
      "text/plain": [
       "[4, 5, -0.14364020877228523]"
      ]
     },
     "execution_count": 81,
     "metadata": {},
     "output_type": "execute_result"
    }
   ],
   "source": [
    "result[6]"
   ]
  },
  {
   "cell_type": "markdown",
   "id": "7effe891",
   "metadata": {},
   "source": [
    "# Removing edges whose weights are greater than threshold"
   ]
  },
  {
   "cell_type": "markdown",
   "id": "fcf92d0e",
   "metadata": {},
   "source": [
    "Considering Threshold to be -0.31"
   ]
  },
  {
   "cell_type": "code",
   "execution_count": 82,
   "id": "379854a2",
   "metadata": {},
   "outputs": [
    {
     "name": "stdout",
     "output_type": "stream",
     "text": [
      "Removed edge with weight: -0.30658361305826337\n",
      "Removed edge with weight: -0.14364020877228523\n",
      "Removed edges are: [[6, 3, -0.30658361305826337], [4, 5, -0.14364020877228523]]\n"
     ]
    }
   ],
   "source": [
    "result1=result\n",
    "x=[]\n",
    "for i in range(len(result1)):\n",
    "    threshold=-0.31\n",
    "    p=result1[i]\n",
    "    temp=p[2]\n",
    "    if (float(temp)>float(threshold)):\n",
    "        removed=temp\n",
    "        x.append(p)\n",
    "        print(\"Removed edge with weight:\",removed)\n",
    "\n",
    "print(\"Removed edges are:\",x)"
   ]
  },
  {
   "cell_type": "markdown",
   "id": "dd09142a",
   "metadata": {},
   "source": [
    "# Graph after removing the edge"
   ]
  },
  {
   "cell_type": "code",
   "execution_count": 83,
   "id": "682a8841",
   "metadata": {},
   "outputs": [
    {
     "name": "stdout",
     "output_type": "stream",
     "text": [
      "vac -- mit == -0.306584 has been removed\n",
      "Feature: mit has been removed\n",
      "erl -- pox == -0.143640 has been removed\n",
      "Feature: pox has been removed\n"
     ]
    }
   ],
   "source": [
    "for u, v, weight in x:\n",
    "    print(\"%s -- %s == %f\" % (Vertices[u],Vertices[v], Weights[u][v]),'has been removed')\n",
    "    print(\"Feature: %s\" % (Vertices[v]),'has been removed')"
   ]
  },
  {
   "cell_type": "code",
   "execution_count": 84,
   "id": "dc902a33",
   "metadata": {},
   "outputs": [],
   "source": [
    "def remove_common(a, b):\n",
    "    for i in a[:]:\n",
    "        if i in b:\n",
    "            a.remove(i)\n",
    "            b.remove(i)\n",
    "    return a"
   ]
  },
  {
   "cell_type": "code",
   "execution_count": 85,
   "id": "be7ca99d",
   "metadata": {},
   "outputs": [
    {
     "name": "stdout",
     "output_type": "stream",
     "text": [
      "[[1, 2, -0.5124530542126253], [4, 0, -0.45113108623502074], [2, 0, -0.4282853333139712], [7, 0, -0.35495229677462464], [6, 0, -0.31638619603888374]]\n"
     ]
    }
   ],
   "source": [
    "new_res=remove_common(result,x)\n",
    "print(new_res)"
   ]
  },
  {
   "cell_type": "code",
   "execution_count": 86,
   "id": "59e6f986",
   "metadata": {},
   "outputs": [
    {
     "name": "stdout",
     "output_type": "stream",
     "text": [
      "Remaining features and their weights:\n",
      "gvh -- alm == -0.512453\n",
      "erl -- mcg == -0.451131\n",
      "alm -- mcg == -0.428285\n",
      "nuc -- mcg == -0.354952\n",
      "vac -- mcg == -0.316386\n"
     ]
    }
   ],
   "source": [
    "print(\"Remaining features and their weights:\")\n",
    "for u, v, weight in new_res:\n",
    "    print(\"%s -- %s == %f\" % (Vertices[u],Vertices[v], Weights[u][v]))"
   ]
  },
  {
   "cell_type": "markdown",
   "id": "f91ba792",
   "metadata": {},
   "source": [
    "# Final Reduced Dataset"
   ]
  },
  {
   "cell_type": "code",
   "execution_count": 87,
   "id": "184da469",
   "metadata": {},
   "outputs": [
    {
     "name": "stdout",
     "output_type": "stream",
     "text": [
      "Reduced dataset:\n"
     ]
    },
    {
     "data": {
      "text/html": [
       "<div>\n",
       "<style scoped>\n",
       "    .dataframe tbody tr th:only-of-type {\n",
       "        vertical-align: middle;\n",
       "    }\n",
       "\n",
       "    .dataframe tbody tr th {\n",
       "        vertical-align: top;\n",
       "    }\n",
       "\n",
       "    .dataframe thead th {\n",
       "        text-align: right;\n",
       "    }\n",
       "</style>\n",
       "<table border=\"1\" class=\"dataframe\">\n",
       "  <thead>\n",
       "    <tr style=\"text-align: right;\">\n",
       "      <th></th>\n",
       "      <th>mcg</th>\n",
       "      <th>gvh</th>\n",
       "      <th>alm</th>\n",
       "      <th>erl</th>\n",
       "      <th>vac</th>\n",
       "      <th>nuc</th>\n",
       "    </tr>\n",
       "  </thead>\n",
       "  <tbody>\n",
       "    <tr>\n",
       "      <th>0</th>\n",
       "      <td>0.477548</td>\n",
       "      <td>0.502249</td>\n",
       "      <td>0.386979</td>\n",
       "      <td>0.411680</td>\n",
       "      <td>0.395212</td>\n",
       "      <td>0.181139</td>\n",
       "    </tr>\n",
       "    <tr>\n",
       "      <th>1</th>\n",
       "      <td>0.349190</td>\n",
       "      <td>0.544086</td>\n",
       "      <td>0.389793</td>\n",
       "      <td>0.406035</td>\n",
       "      <td>0.430397</td>\n",
       "      <td>0.178655</td>\n",
       "    </tr>\n",
       "    <tr>\n",
       "      <th>2</th>\n",
       "      <td>0.500382</td>\n",
       "      <td>0.484745</td>\n",
       "      <td>0.383105</td>\n",
       "      <td>0.390923</td>\n",
       "      <td>0.414379</td>\n",
       "      <td>0.172006</td>\n",
       "    </tr>\n",
       "    <tr>\n",
       "      <th>3</th>\n",
       "      <td>0.479716</td>\n",
       "      <td>0.363922</td>\n",
       "      <td>0.471445</td>\n",
       "      <td>0.413548</td>\n",
       "      <td>0.446632</td>\n",
       "      <td>0.181961</td>\n",
       "    </tr>\n",
       "    <tr>\n",
       "      <th>4</th>\n",
       "      <td>0.352357</td>\n",
       "      <td>0.369136</td>\n",
       "      <td>0.402694</td>\n",
       "      <td>0.419473</td>\n",
       "      <td>0.402694</td>\n",
       "      <td>0.184568</td>\n",
       "    </tr>\n",
       "  </tbody>\n",
       "</table>\n",
       "</div>"
      ],
      "text/plain": [
       "        mcg       gvh       alm       erl       vac       nuc\n",
       "0  0.477548  0.502249  0.386979  0.411680  0.395212  0.181139\n",
       "1  0.349190  0.544086  0.389793  0.406035  0.430397  0.178655\n",
       "2  0.500382  0.484745  0.383105  0.390923  0.414379  0.172006\n",
       "3  0.479716  0.363922  0.471445  0.413548  0.446632  0.181961\n",
       "4  0.352357  0.369136  0.402694  0.419473  0.402694  0.184568"
      ]
     },
     "execution_count": 87,
     "metadata": {},
     "output_type": "execute_result"
    }
   ],
   "source": [
    "print(\"Reduced dataset:\")\n",
    "data2=data1.drop(['pox', 'mit'], axis=1)\n",
    "data2.head()"
   ]
  },
  {
   "cell_type": "code",
   "execution_count": null,
   "id": "0c00802d",
   "metadata": {},
   "outputs": [],
   "source": []
  }
 ],
 "metadata": {
  "kernelspec": {
   "display_name": "Python 3",
   "language": "python",
   "name": "python3"
  },
  "language_info": {
   "codemirror_mode": {
    "name": "ipython",
    "version": 3
   },
   "file_extension": ".py",
   "mimetype": "text/x-python",
   "name": "python",
   "nbconvert_exporter": "python",
   "pygments_lexer": "ipython3",
   "version": "3.8.8"
  }
 },
 "nbformat": 4,
 "nbformat_minor": 5
}
